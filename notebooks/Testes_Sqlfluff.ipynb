{
 "cells": [
  {
   "cell_type": "code",
   "execution_count": 58,
   "metadata": {},
   "outputs": [],
   "source": [
    "import sqlfluff\n",
    "\n",
    "query = \"WITH lactacao_avg AS ( SELECT raca_holandesa_kg, AVG(raca_holandesa_kg) OVER (ORDER BY semana) AS avg_raca_holandesa_kg, raca_jersey_kg, AVG(raca_jersey_kg) OVER (ORDER BY semana) AS avg_raca_jersey_kg, raca_gir_kg, AVG(raca_gir_kg) OVER (ORDER BY semana) AS avg_raca_gir_kg FROM tb_lactacao ) SELECT * FROM lactacao_avg WHERE raca_holandesa_kg > avg_raca_holandesa_kg * 1.3 OR raca_jersey_kg > avg_raca_jersey_kg * 1.3 OR raca_gir_kg > avg_raca_gir_kg * 1.3 \""
   ]
  },
  {
   "cell_type": "code",
   "execution_count": 59,
   "metadata": {},
   "outputs": [],
   "source": [
    "\n",
    "fixed_query = sqlfluff.fix(query, dialect=\"postgres\")"
   ]
  },
  {
   "cell_type": "code",
   "execution_count": 60,
   "metadata": {},
   "outputs": [],
   "source": [
    "import psycopg2\n",
    "\n",
    "\n",
    "def get_db_connection():\n",
    "    conn = psycopg2.connect(\n",
    "        host=\"localhost\",\n",
    "        database=\"postgres\",\n",
    "        user=\"postgres\",\n",
    "        password=\"postgres\",\n",
    "    )\n",
    "    return conn\n",
    "\n",
    "\n",
    "conn = get_db_connection()\n",
    "cur = conn.cursor()\n",
    "if conn and cur:\n",
    "    cur.execute(fixed_query)\n",
    "    rulelist = cur.fetchall()"
   ]
  }
 ],
 "metadata": {
  "kernelspec": {
   "display_name": "Python 3",
   "language": "python",
   "name": "python3"
  },
  "language_info": {
   "codemirror_mode": {
    "name": "ipython",
    "version": 3
   },
   "file_extension": ".py",
   "mimetype": "text/x-python",
   "name": "python",
   "nbconvert_exporter": "python",
   "pygments_lexer": "ipython3",
   "version": "3.12.6"
  }
 },
 "nbformat": 4,
 "nbformat_minor": 2
}
