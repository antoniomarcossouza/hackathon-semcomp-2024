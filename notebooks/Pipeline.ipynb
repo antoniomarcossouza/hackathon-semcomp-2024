{
 "cells": [
  {
   "cell_type": "code",
   "execution_count": null,
   "metadata": {},
   "outputs": [],
   "source": [
    "import psycopg2\n",
    "from psycopg2 import sql\n",
    "\n",
    "\n",
    "def get_db_connection():\n",
    "    conn = psycopg2.connect(\n",
    "        host=\"localhost\",\n",
    "        database=\"postgres\",\n",
    "        user=\"postgres\",\n",
    "        password=\"postgres\",\n",
    "    )\n",
    "    return conn\n",
    "\n",
    "\n",
    "conn = get_db_connection()\n",
    "cur = conn.cursor()"
   ]
  },
  {
   "cell_type": "code",
   "execution_count": null,
   "metadata": {},
   "outputs": [],
   "source": [
    "if conn and cur:\n",
    "    cur.execute(\"SELECT * FROM tb_regras\")\n",
    "    rules = cur.fetchall()\n",
    "    for rule in rules:\n",
    "        id_rule, table_name, _, query, _ = rule\n",
    "        cur.execute(query)\n",
    "        violations = cur.fetchall()\n",
    "        for violation in violations:\n",
    "\n",
    "            cur.execute(\n",
    "                query=sql.SQL(\n",
    "                    \"INSERT INTO tb_violacoes (id_item, nome_tabela, id_regra_violada) VALUES (%s, %s, %s)\",\n",
    "                ),\n",
    "                vars=(violation[0], table_name, id_rule),\n",
    "            )\n",
    "    conn.commit()"
   ]
  }
 ],
 "metadata": {
  "kernelspec": {
   "display_name": "Python 3",
   "language": "python",
   "name": "python3"
  },
  "language_info": {
   "codemirror_mode": {
    "name": "ipython",
    "version": 3
   },
   "file_extension": ".py",
   "mimetype": "text/x-python",
   "name": "python",
   "nbconvert_exporter": "python",
   "pygments_lexer": "ipython3",
   "version": "3.12.6"
  }
 },
 "nbformat": 4,
 "nbformat_minor": 2
}
